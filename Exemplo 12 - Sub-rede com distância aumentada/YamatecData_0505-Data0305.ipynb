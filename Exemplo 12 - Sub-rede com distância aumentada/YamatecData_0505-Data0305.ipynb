{
 "cells": [
  {
   "cell_type": "code",
   "execution_count": 2,
   "metadata": {},
   "outputs": [],
   "source": [
    "import numpy as np\n",
    "import pandas as pd\n",
    "import torch\n",
    "\n",
    "from torch.utils.data import Dataset, DataLoader, TensorDataset"
   ]
  },
  {
   "cell_type": "code",
   "execution_count": 4,
   "metadata": {},
   "outputs": [],
   "source": [
    "folder = 'dataset/'\n",
    "\n",
    "# Sem Vazamento\n",
    "df1 = pd.read_csv(folder + 'data_1.csv', header=None)#.iloc[:, 0:36]\n",
    "df2 = pd.read_csv(folder + 'data_2.csv', header=None)#.iloc[:, 0:36]\n",
    "df3 = pd.read_csv(folder + 'data_3.csv', header=None)#.iloc[:, 0:36]  *\n",
    "df4 = pd.read_csv(folder + 'data_4.csv', header=None)#.iloc[:, 0:36]\n",
    "df5 = pd.read_csv(folder + 'data_5.csv', header=None)#.iloc[:, 0:36]\n",
    "df6 = pd.read_csv(folder + 'data_6.csv', header=None)#.iloc[:, 0:36]\n",
    "df7 = pd.read_csv(folder + 'data_7.csv', header=None)#.iloc[:, 0:36] *\n",
    "df8 = pd.read_csv(folder + 'data_8.csv', header=None)#.iloc[:, 0:36]\n",
    "df9 = pd.read_csv(folder + 'data_9.csv', header=None)#.iloc[:, 0:36] *\n",
    "\n",
    "# Vazamento dia inteiro nó 12\n",
    "df10 = pd.read_csv(folder + 'data_10.csv', header=None)#.iloc[:, 0:36]\n",
    "df11 = pd.read_csv(folder + 'data_11.csv', header=None)#.iloc[:, 0:36]\n",
    "df12 = pd.read_csv(folder + 'data_12.csv', header=None)#.iloc[:, 0:36]\n",
    "\n",
    "# Vazamento meio dia inteiro nó 12\n",
    "df13 = pd.read_csv(folder + 'data_13.csv', header=None)#.iloc[:, 0:36]\n",
    "df14 = pd.read_csv(folder + 'data_14.csv', header=None)#.iloc[:, 0:36]\n",
    "df15 = pd.read_csv(folder + 'data_15.csv', header=None)#.iloc[:, 0:36]\n",
    "\n",
    "# Vazamento dia inteiro nó 14\n",
    "df16 = pd.read_csv(folder + 'data_16.csv', header=None)#.iloc[:, 0:36]\n",
    "df17 = pd.read_csv(folder + 'data_17.csv', header=None)#.iloc[:, 0:36]\n",
    "df18 = pd.read_csv(folder + 'data_18.csv', header=None)#.iloc[:, 0:36]\n",
    "\n",
    "# Vazamento meio dia inteiro nó 114\n",
    "df19 = pd.read_csv(folder + 'data_19.csv', header=None)#.iloc[:, 0:36]\n",
    "df20 = pd.read_csv(folder + 'data_20.csv', header=None)#.iloc[:, 0:36]\n",
    "df21 = pd.read_csv(folder + 'data_21.csv', header=None)#.iloc[:, 0:36]\n",
    "\n",
    "#Msj = pd.read_csv('Mat-adj-sem-junc.csv')\n",
    "Mcj = pd.read_csv(folder + 'Mat-adj-com-junc.csv')\n",
    "\n",
    "# Dados antigos 0305\n",
    "'''\n",
    "df22 = pd.read_csv('data_1_1.csv', header=None)#.iloc[:, 0:36]\n",
    "df23 = pd.read_csv('data_2_1.csv', header=None)#.iloc[:, 0:36]\n",
    "df24 = pd.read_csv('data_3_1.csv', header=None)#.iloc[:, 0:36]\n",
    "df25 = pd.read_csv('data_4_1.csv', header=None)#.iloc[:, 0:36]\n",
    "df26 = pd.read_csv('data_5_1.csv', header=None)#.iloc[:, 0:36]\n",
    "df27 = pd.read_csv('data_6_1.csv', header=None)#.iloc[:, 0:36]\n",
    "df28 = pd.read_csv('data_7_1.csv', header=None)#.iloc[:, 0:36]\n",
    "df29 = pd.read_csv('data_8_1.csv', header=None)#.iloc[:, 0:36]\n",
    "df30 = pd.read_csv('data_9_1.csv', header=None)#.iloc[:, 0:36]\n",
    "'''\n",
    "\n",
    "\n",
    "\n",
    "Header_tm = ['T(s)'] # 0\n",
    "Header_vz = ['VZ2','VZ3','VZ4','VZ5','VZ6','VZ7','VZ8','VZ9'] # 1 - 9\n",
    "Header_v = ['V2','V3','V4','V5','V6','V7','V8','V9'] # 10 - 17\n",
    "Header_p = ['P2','P3','P4','P5','P6','P7','P8','P9'] # 18 - 25\n",
    "Header_alpha1 = ['ap1_2','ap1_3','ap1_4','ap1_5','ap1_6','ap1_7','ap1_8','ap1_9'] # 26 - 33\n",
    "Header_alpha2 = ['ap2_2','ap2_3','ap2_4','ap2_5','ap2_6','ap2_7','ap2_8','ap2_9'] # 34 - 41\n",
    "Header_x = ['x2', 'x3', 'x4', 'x5','x6', 'x7', 'x8', 'x9'] # 42 - 49\n",
    "Header_y = ['y2', 'y3', 'y4', 'y5','y6', 'y7', 'y8', 'y9'] # 50 - 57\n",
    "Header_z = ['z2', 'z3', 'z4', 'z5','z6', 'z7', 'z8', 'z9'] # 58 - 65\n",
    "Header_Lb = ['Lb_12', 'Lb_14'] # 66 - 67\n",
    "Header_1214 = ['x12', 'x14', 'y12', 'y14', 'z12', 'z14'] # 68 - 73\n",
    "Header_Week = ['week_day'] # 74\n",
    "\n",
    "Header = Header_tm + Header_vz + Header_v + Header_p + Header_alpha1 + Header_alpha2 + Header_x + Header_y + Header_z + Header_Lb + Header_1214 + Header_Week\n",
    "\n",
    "\n",
    "#Header = ['T(s)',,'P2','P7','P9','P12','P14' ,'V2',\n",
    " #         'V7','V9','V12','V14','X2', 'X7', 'X9', 'X12', 'X14', 'Y2', 'Y7', 'Y9',\n",
    "  #        'Y12', 'Y14', 'Z2', 'Z7', 'Z9', 'Z12', 'Z14','LB3', 'LB5', 'LB9', 'LB11', 'LB13' ]\n",
    "\n"
   ]
  },
  {
   "cell_type": "code",
   "execution_count": 3,
   "metadata": {},
   "outputs": [],
   "source": [
    "import seaborn as sns\n",
    "import numpy as np\n",
    "import pandas as pd\n",
    "import matplotlib.pyplot as plt"
   ]
  },
  {
   "cell_type": "code",
   "execution_count": 4,
   "metadata": {},
   "outputs": [],
   "source": [
    "\n",
    "fig_size = plt.rcParams[\"figure.figsize\"]\n",
    "fig_size[0] = 15\n",
    "fig_size[1] = 5\n",
    "plt.rcParams[\"figure.figsize\"] = fig_size\n"
   ]
  },
  {
   "cell_type": "code",
   "execution_count": 5,
   "metadata": {},
   "outputs": [
    {
     "data": {
      "text/plain": [
       "\"\\nplt.title('Time x Pressure')\\nplt.ylabel('Pressure')\\nplt.xlabel('Time(s)')\\nplt.grid(True)\\nplt.autoscale(axis='x',tight=True)\\n#plt.plot(DataN[0])\\nplt.plot(df7['P2'])\\n\""
      ]
     },
     "execution_count": 5,
     "metadata": {},
     "output_type": "execute_result"
    }
   ],
   "source": [
    "'''\n",
    "plt.title('Time x Pressure')\n",
    "plt.ylabel('Pressure')\n",
    "plt.xlabel('Time(s)')\n",
    "plt.grid(True)\n",
    "plt.autoscale(axis='x',tight=True)\n",
    "#plt.plot(DataN[0])\n",
    "plt.plot(df7['P2'])\n",
    "'''"
   ]
  },
  {
   "cell_type": "code",
   "execution_count": 6,
   "metadata": {},
   "outputs": [],
   "source": [
    "\n",
    "# Nomalização dos dados - \"opcional\"\n",
    "\n",
    "from sklearn import preprocessing\n",
    "\n",
    "def Norm(Data):\n",
    "    x = Data.values #returns a numpy array\n",
    "    min_max_scaler = preprocessing.MinMaxScaler()\n",
    "    x_scaled = min_max_scaler.fit_transform(x)\n",
    "    Data = pd.DataFrame(x_scaled)\n",
    "    \n",
    "    return Data\n"
   ]
  },
  {
   "cell_type": "code",
   "execution_count": null,
   "metadata": {},
   "outputs": [],
   "source": []
  },
  {
   "cell_type": "code",
   "execution_count": 7,
   "metadata": {},
   "outputs": [],
   "source": [
    "'''\n",
    "df_time = df1[0]\n",
    "\n",
    "df1 = Norm(df1)\n",
    "df2 = Norm(df2)\n",
    "df3 = Norm(df3)\n",
    "df4 = Norm(df1)\n",
    "df5 = Norm(df2)\n",
    "df6 = Norm(df3)\n",
    "df7 = Norm(df1)\n",
    "df8 = Norm(df2)\n",
    "df9 = Norm(df3)\n",
    "'''\n",
    "#df1.columns = df2.columns = df3.columns = df4.columns = df5.columns \\\n",
    "#= df6.columns = df7.columns = df8.columns = df9.columns = df10.columns = df11.columns = df12.columns \\\n",
    "\n",
    "df3.columns = df7.columns = df9.columns = df10.columns = df11.columns = df12.columns \\\n",
    "= df13.columns = df14.columns = df15.columns = df16.columns = df17.columns = df18.columns = df19.columns \\\n",
    "= df20.columns = df21.columns = Header #df22.columns = df23.columns = df24.columns = df25.columns \\\n",
    "#= df26.columns = df27.columns = df28.columns = df29.columns = df30.columns = Header\n",
    "\n",
    "#df1['T(s)'] = df2['T(s)'] = df3['T(s)'] = df4['T(s)'] = df5['T(s)'] = df6['T(s)'] = df7['T(s)'] = df8['T(s)'] = df9['T(s)'] = df_time"
   ]
  },
  {
   "cell_type": "code",
   "execution_count": 8,
   "metadata": {},
   "outputs": [
    {
     "data": {
      "text/plain": [
       "\"\\ndf1['week_day'] = '2021-01-01'\\ndf2['week_day'] = '2021-01-02'\\ndf3['week_day'] = '2021-01-03'\\ndf4['week_day'] = '2021-01-04'\\ndf5['week_day'] = '2021-01-05'\\ndf6['week_day'] = '2021-01-06'\\ndf7['week_day'] = '2021-01-07'\\ndf8['week_day'] = '2021-01-08'\\ndf9['week_day'] = '2021-01-09'\\n\""
      ]
     },
     "execution_count": 8,
     "metadata": {},
     "output_type": "execute_result"
    }
   ],
   "source": [
    "'''\n",
    "df1['week_day'] = '2021-01-01'\n",
    "df2['week_day'] = '2021-01-02'\n",
    "df3['week_day'] = '2021-01-03'\n",
    "df4['week_day'] = '2021-01-04'\n",
    "df5['week_day'] = '2021-01-05'\n",
    "df6['week_day'] = '2021-01-06'\n",
    "df7['week_day'] = '2021-01-07'\n",
    "df8['week_day'] = '2021-01-08'\n",
    "df9['week_day'] = '2021-01-09'\n",
    "'''"
   ]
  },
  {
   "cell_type": "code",
   "execution_count": 9,
   "metadata": {},
   "outputs": [],
   "source": [
    "df41 = df4[50:]\n",
    "df71 = df7[50:]\n",
    "df51 = df5[50:]\n",
    "df81 = df8[50:]\n",
    "df61 = df6[50:]\n",
    "df91 = df9[50:]"
   ]
  },
  {
   "cell_type": "code",
   "execution_count": 12,
   "metadata": {},
   "outputs": [],
   "source": [
    "#Frames = [ df41, df71, df51, df81, df61, df91]\n",
    "#Frames = [df1, df2, df3, df4, df5, df6, df7, df8, df9, df10, df11, df12, df13, df14, \\\n",
    " #         df15, df16, df17, df18, df19, df20, df21]#, df22, df23, df24, df25, df26, df27, df28, df29, df30]\n",
    "\n",
    "Frames = [df3, df7, df9, df10, df11, df12, df13, df14, \\\n",
    "          df15, df16, df17, df18, df19, df20, df21]    \n",
    "\n",
    "Data = pd.concat(Frames)\n",
    "Data_T = Data['T(s)']"
   ]
  },
  {
   "cell_type": "code",
   "execution_count": 13,
   "metadata": {},
   "outputs": [],
   "source": [
    "Data = Norm(Data)\n",
    "Data.columns = Header"
   ]
  },
  {
   "cell_type": "code",
   "execution_count": 14,
   "metadata": {},
   "outputs": [
    {
     "data": {
      "text/plain": [
       "Index(['T(s)', 'VZ2', 'VZ3', 'VZ4', 'VZ5', 'VZ6', 'VZ7', 'VZ8', 'VZ9', 'V2',\n",
       "       'V3', 'V4', 'V5', 'V6', 'V7', 'V8', 'V9', 'P2', 'P3', 'P4', 'P5', 'P6',\n",
       "       'P7', 'P8', 'P9', 'ap1_2', 'ap1_3', 'ap1_4', 'ap1_5', 'ap1_6', 'ap1_7',\n",
       "       'ap1_8', 'ap1_9', 'ap2_2', 'ap2_3', 'ap2_4', 'ap2_5', 'ap2_6', 'ap2_7',\n",
       "       'ap2_8', 'ap2_9', 'x2', 'x3', 'x4', 'x5', 'x6', 'x7', 'x8', 'x9', 'y2',\n",
       "       'y3', 'y4', 'y5', 'y6', 'y7', 'y8', 'y9', 'z2', 'z3', 'z4', 'z5', 'z6',\n",
       "       'z7', 'z8', 'z9', 'Lb_12', 'Lb_14', 'x12', 'x14', 'y12', 'y14', 'z12',\n",
       "       'z14', 'week_day'],\n",
       "      dtype='object')"
      ]
     },
     "execution_count": 14,
     "metadata": {},
     "output_type": "execute_result"
    }
   ],
   "source": [
    "Data.columns"
   ]
  },
  {
   "cell_type": "code",
   "execution_count": 15,
   "metadata": {},
   "outputs": [],
   "source": [
    "Data['T(s)'] = pd.DataFrame(Data_T).values"
   ]
  },
  {
   "cell_type": "code",
   "execution_count": 16,
   "metadata": {},
   "outputs": [
    {
     "data": {
      "text/html": [
       "<div>\n",
       "<style scoped>\n",
       "    .dataframe tbody tr th:only-of-type {\n",
       "        vertical-align: middle;\n",
       "    }\n",
       "\n",
       "    .dataframe tbody tr th {\n",
       "        vertical-align: top;\n",
       "    }\n",
       "\n",
       "    .dataframe thead th {\n",
       "        text-align: right;\n",
       "    }\n",
       "</style>\n",
       "<table border=\"1\" class=\"dataframe\">\n",
       "  <thead>\n",
       "    <tr style=\"text-align: right;\">\n",
       "      <th></th>\n",
       "      <th>T(s)</th>\n",
       "      <th>VZ2</th>\n",
       "      <th>VZ3</th>\n",
       "      <th>VZ4</th>\n",
       "      <th>VZ5</th>\n",
       "      <th>VZ6</th>\n",
       "      <th>VZ7</th>\n",
       "      <th>VZ8</th>\n",
       "      <th>VZ9</th>\n",
       "      <th>V2</th>\n",
       "      <th>...</th>\n",
       "      <th>z9</th>\n",
       "      <th>Lb_12</th>\n",
       "      <th>Lb_14</th>\n",
       "      <th>x12</th>\n",
       "      <th>x14</th>\n",
       "      <th>y12</th>\n",
       "      <th>y14</th>\n",
       "      <th>z12</th>\n",
       "      <th>z14</th>\n",
       "      <th>week_day</th>\n",
       "    </tr>\n",
       "  </thead>\n",
       "  <tbody>\n",
       "    <tr>\n",
       "      <th>0</th>\n",
       "      <td>0</td>\n",
       "      <td>0.010906</td>\n",
       "      <td>0.0</td>\n",
       "      <td>0.066674</td>\n",
       "      <td>0.033437</td>\n",
       "      <td>0.033377</td>\n",
       "      <td>0.010906</td>\n",
       "      <td>0.004113</td>\n",
       "      <td>0.016529</td>\n",
       "      <td>0.870036</td>\n",
       "      <td>...</td>\n",
       "      <td>0.0</td>\n",
       "      <td>0.0</td>\n",
       "      <td>0.0</td>\n",
       "      <td>0.0</td>\n",
       "      <td>0.0</td>\n",
       "      <td>0.0</td>\n",
       "      <td>0.0</td>\n",
       "      <td>0.0</td>\n",
       "      <td>0.0</td>\n",
       "      <td>0.0</td>\n",
       "    </tr>\n",
       "    <tr>\n",
       "      <th>1</th>\n",
       "      <td>600</td>\n",
       "      <td>0.010906</td>\n",
       "      <td>0.0</td>\n",
       "      <td>0.066674</td>\n",
       "      <td>0.033437</td>\n",
       "      <td>0.033377</td>\n",
       "      <td>0.010906</td>\n",
       "      <td>0.004113</td>\n",
       "      <td>0.016529</td>\n",
       "      <td>0.870036</td>\n",
       "      <td>...</td>\n",
       "      <td>0.0</td>\n",
       "      <td>0.0</td>\n",
       "      <td>0.0</td>\n",
       "      <td>0.0</td>\n",
       "      <td>0.0</td>\n",
       "      <td>0.0</td>\n",
       "      <td>0.0</td>\n",
       "      <td>0.0</td>\n",
       "      <td>0.0</td>\n",
       "      <td>0.0</td>\n",
       "    </tr>\n",
       "    <tr>\n",
       "      <th>2</th>\n",
       "      <td>1200</td>\n",
       "      <td>0.010906</td>\n",
       "      <td>0.0</td>\n",
       "      <td>0.066674</td>\n",
       "      <td>0.033437</td>\n",
       "      <td>0.033377</td>\n",
       "      <td>0.010906</td>\n",
       "      <td>0.004113</td>\n",
       "      <td>0.016529</td>\n",
       "      <td>0.870036</td>\n",
       "      <td>...</td>\n",
       "      <td>0.0</td>\n",
       "      <td>0.0</td>\n",
       "      <td>0.0</td>\n",
       "      <td>0.0</td>\n",
       "      <td>0.0</td>\n",
       "      <td>0.0</td>\n",
       "      <td>0.0</td>\n",
       "      <td>0.0</td>\n",
       "      <td>0.0</td>\n",
       "      <td>0.0</td>\n",
       "    </tr>\n",
       "    <tr>\n",
       "      <th>3</th>\n",
       "      <td>1800</td>\n",
       "      <td>0.010906</td>\n",
       "      <td>0.0</td>\n",
       "      <td>0.066674</td>\n",
       "      <td>0.033437</td>\n",
       "      <td>0.033377</td>\n",
       "      <td>0.010906</td>\n",
       "      <td>0.004113</td>\n",
       "      <td>0.016529</td>\n",
       "      <td>0.870036</td>\n",
       "      <td>...</td>\n",
       "      <td>0.0</td>\n",
       "      <td>0.0</td>\n",
       "      <td>0.0</td>\n",
       "      <td>0.0</td>\n",
       "      <td>0.0</td>\n",
       "      <td>0.0</td>\n",
       "      <td>0.0</td>\n",
       "      <td>0.0</td>\n",
       "      <td>0.0</td>\n",
       "      <td>0.0</td>\n",
       "    </tr>\n",
       "    <tr>\n",
       "      <th>4</th>\n",
       "      <td>2400</td>\n",
       "      <td>0.010906</td>\n",
       "      <td>0.0</td>\n",
       "      <td>0.066674</td>\n",
       "      <td>0.033437</td>\n",
       "      <td>0.033377</td>\n",
       "      <td>0.010906</td>\n",
       "      <td>0.004113</td>\n",
       "      <td>0.016529</td>\n",
       "      <td>0.870036</td>\n",
       "      <td>...</td>\n",
       "      <td>0.0</td>\n",
       "      <td>0.0</td>\n",
       "      <td>0.0</td>\n",
       "      <td>0.0</td>\n",
       "      <td>0.0</td>\n",
       "      <td>0.0</td>\n",
       "      <td>0.0</td>\n",
       "      <td>0.0</td>\n",
       "      <td>0.0</td>\n",
       "      <td>0.0</td>\n",
       "    </tr>\n",
       "  </tbody>\n",
       "</table>\n",
       "<p>5 rows × 74 columns</p>\n",
       "</div>"
      ],
      "text/plain": [
       "   T(s)       VZ2  VZ3       VZ4       VZ5       VZ6       VZ7       VZ8  \\\n",
       "0     0  0.010906  0.0  0.066674  0.033437  0.033377  0.010906  0.004113   \n",
       "1   600  0.010906  0.0  0.066674  0.033437  0.033377  0.010906  0.004113   \n",
       "2  1200  0.010906  0.0  0.066674  0.033437  0.033377  0.010906  0.004113   \n",
       "3  1800  0.010906  0.0  0.066674  0.033437  0.033377  0.010906  0.004113   \n",
       "4  2400  0.010906  0.0  0.066674  0.033437  0.033377  0.010906  0.004113   \n",
       "\n",
       "        VZ9        V2  ...   z9  Lb_12  Lb_14  x12  x14  y12  y14  z12  z14  \\\n",
       "0  0.016529  0.870036  ...  0.0    0.0    0.0  0.0  0.0  0.0  0.0  0.0  0.0   \n",
       "1  0.016529  0.870036  ...  0.0    0.0    0.0  0.0  0.0  0.0  0.0  0.0  0.0   \n",
       "2  0.016529  0.870036  ...  0.0    0.0    0.0  0.0  0.0  0.0  0.0  0.0  0.0   \n",
       "3  0.016529  0.870036  ...  0.0    0.0    0.0  0.0  0.0  0.0  0.0  0.0  0.0   \n",
       "4  0.016529  0.870036  ...  0.0    0.0    0.0  0.0  0.0  0.0  0.0  0.0  0.0   \n",
       "\n",
       "   week_day  \n",
       "0       0.0  \n",
       "1       0.0  \n",
       "2       0.0  \n",
       "3       0.0  \n",
       "4       0.0  \n",
       "\n",
       "[5 rows x 74 columns]"
      ]
     },
     "execution_count": 16,
     "metadata": {},
     "output_type": "execute_result"
    }
   ],
   "source": [
    "Data.head()"
   ]
  },
  {
   "cell_type": "code",
   "execution_count": 17,
   "metadata": {},
   "outputs": [],
   "source": [
    "Data.loc[Data['Lb_12'] == 1,  'label'] = 2 \n",
    "Data.loc[Data['Lb_14'] == 1,  'label'] = 5   \n",
    "Data.loc[(Data['Lb_14'] == 0) & (Data['Lb_12'] == 0), 'label'] = 0\n",
    "\n",
    "#df1.loc[df1['Lb_12'] == 1,  'label'] = 12 \n",
    "#df1.loc[df1['Lb_14'] == 1,  'label'] = 14 \n",
    "#df1.loc[(df1['Lb_14'] == 0) & (df1['Lb_12'] == 0), 'label'] = 0"
   ]
  },
  {
   "cell_type": "code",
   "execution_count": 18,
   "metadata": {},
   "outputs": [
    {
     "data": {
      "text/plain": [
       "array([0., 2., 5.])"
      ]
     },
     "execution_count": 18,
     "metadata": {},
     "output_type": "execute_result"
    }
   ],
   "source": [
    "Data['label'].unique()"
   ]
  },
  {
   "cell_type": "code",
   "execution_count": 19,
   "metadata": {},
   "outputs": [
    {
     "data": {
      "text/plain": [
       "\"\\n# Adicionar uma coluna com o label dos dados, seguindo a sequencia da matriz de adjacências.\\ndf1.columns = df2.columns = df3.columns = Header\\ndf1['Label'] = 0\\ndf2['Label'] = 7\\ndf3['Label'] = 14\\n\\nFrames = [df1, df2, df3]\\nData = pd.concat(Frames)\\n\\nData.head(2)\\n\\n\""
      ]
     },
     "execution_count": 19,
     "metadata": {},
     "output_type": "execute_result"
    }
   ],
   "source": [
    "'''\n",
    "# Adicionar uma coluna com o label dos dados, seguindo a sequencia da matriz de adjacências.\n",
    "df1.columns = df2.columns = df3.columns = Header\n",
    "df1['Label'] = 0\n",
    "df2['Label'] = 7\n",
    "df3['Label'] = 14\n",
    "\n",
    "Frames = [df1, df2, df3]\n",
    "Data = pd.concat(Frames)\n",
    "\n",
    "Data.head(2)\n",
    "\n",
    "'''"
   ]
  },
  {
   "cell_type": "code",
   "execution_count": 20,
   "metadata": {},
   "outputs": [],
   "source": [
    "\n",
    "# Shuffle 'Opcional'\n",
    "#Data = Data.sample(frac = 1)\n",
    "#Data.head(2)"
   ]
  },
  {
   "cell_type": "code",
   "execution_count": 21,
   "metadata": {},
   "outputs": [],
   "source": [
    "\n",
    "\n",
    "\n",
    "\n",
    "\n",
    "# Juntar os dados de acordo com as colunas\n",
    "'''\n",
    "Data['N0'] = Data[['P2', 'ap1_2', 'ap2_2']].values.tolist()\n",
    "Data['N1'] = Data[['P7', 'ap1_7', 'ap2_7']].values.tolist()\n",
    "Data['N2'] = Data[['P8', 'ap1_8', 'ap2_8']].values.tolist()\n",
    "Data['N3'] = Data[['P9', 'ap1_9', 'ap2_9']].values.tolist()\n",
    "Data['N4'] = Data[['P3', 'ap1_3', 'ap2_3']].values.tolist()\n",
    "Data['N5'] = Data[['P4', 'ap1_4', 'ap2_4']].values.tolist()\n",
    "Data['N6'] = Data[['P5', 'ap1_5', 'ap2_5']].values.tolist()\n",
    "Data['N7'] = Data[['P6', 'ap1_6', 'ap2_6']].values.tolist()\n",
    "'''\n",
    "\n",
    "Data['N0'] = Data[['P2']].values.tolist()\n",
    "Data['N1'] = Data[['P7']].values.tolist()\n",
    "Data['N2'] = Data[['P8']].values.tolist()\n",
    "Data['N3'] = Data[['P9']].values.tolist()\n",
    "Data['N4'] = Data[['P3']].values.tolist()\n",
    "Data['N5'] = Data[['P4']].values.tolist()\n",
    "Data['N6'] = Data[['P5']].values.tolist()\n",
    "Data['N7'] = Data[['P6']].values.tolist()\n",
    "\n",
    "'''\n",
    "\n",
    "Data['N0'] = Data[['P2']].values.tolist()\n",
    "#Data['N1'] = Data[['P7']].values.tolist()\n",
    "#Data['N2'] = Data[['P8']].values.tolist()\n",
    "#Data['N3'] = Data[['P9']].values.tolist()\n",
    "Data['N1'] = Data[['P3']].values.tolist()\n",
    "Data['N2'] = Data[['P4']].values.tolist()\n",
    "Data['N3'] = Data[['P5']].values.tolist()\n",
    "Data['N4'] = Data[['P6']].values.tolist()\n",
    "'''\n",
    "\n",
    "\n",
    "# Equivalencia:\n",
    "# N2 = N0\n",
    "# N7 = N1\n",
    "# N8 = N2\n",
    "# N9 = N3\n",
    "# N3 = N4\n",
    "# N4 = N5\n",
    "# N5 = N6\n",
    "# N6 = N7\n",
    "\n",
    "# criando um novo dataset e separando em Data e Label.\n",
    "NHeader = ['N0', 'N1', 'N2', 'N3', 'N4', 'N5', 'N6', 'N7']\n",
    "#NHeader = ['N0', 'N1', 'N2', 'N3', 'N4']\n",
    "DataN = Data[NHeader]\n",
    "\n",
    "Label = Data['label']\n",
    "Label = pd.DataFrame(Label)\n"
   ]
  },
  {
   "cell_type": "code",
   "execution_count": 22,
   "metadata": {},
   "outputs": [],
   "source": [
    "#Header_p = ['P2','P7','P8','P9','P3','P4','P5','P6'] \n",
    "#HeaderN = ['T(s)' , 'week_day']\n",
    "#Headerdata = Header_p + HeaderN\n",
    "\n",
    "#DataN = Data[Header_p]\n",
    "\n",
    "#Label = Data['label']\n",
    "#Label = pd.DataFrame(Label)\n"
   ]
  },
  {
   "cell_type": "code",
   "execution_count": 23,
   "metadata": {},
   "outputs": [
    {
     "data": {
      "text/html": [
       "<div>\n",
       "<style scoped>\n",
       "    .dataframe tbody tr th:only-of-type {\n",
       "        vertical-align: middle;\n",
       "    }\n",
       "\n",
       "    .dataframe tbody tr th {\n",
       "        vertical-align: top;\n",
       "    }\n",
       "\n",
       "    .dataframe thead th {\n",
       "        text-align: right;\n",
       "    }\n",
       "</style>\n",
       "<table border=\"1\" class=\"dataframe\">\n",
       "  <thead>\n",
       "    <tr style=\"text-align: right;\">\n",
       "      <th></th>\n",
       "      <th>N0</th>\n",
       "      <th>N1</th>\n",
       "      <th>N2</th>\n",
       "      <th>N3</th>\n",
       "      <th>N4</th>\n",
       "      <th>N5</th>\n",
       "      <th>N6</th>\n",
       "      <th>N7</th>\n",
       "    </tr>\n",
       "  </thead>\n",
       "  <tbody>\n",
       "    <tr>\n",
       "      <th>0</th>\n",
       "      <td>[0.010906185878308175]</td>\n",
       "      <td>[0.010906185878308175]</td>\n",
       "      <td>[0.004113444468499674]</td>\n",
       "      <td>[0.01652892561983471]</td>\n",
       "      <td>[0.0]</td>\n",
       "      <td>[0.06667367034744438]</td>\n",
       "      <td>[0.033437051981408714]</td>\n",
       "      <td>[0.03337719062123286]</td>\n",
       "    </tr>\n",
       "    <tr>\n",
       "      <th>1</th>\n",
       "      <td>[0.010906185878308175]</td>\n",
       "      <td>[0.010906185878308175]</td>\n",
       "      <td>[0.004113444468499674]</td>\n",
       "      <td>[0.01652892561983471]</td>\n",
       "      <td>[0.0]</td>\n",
       "      <td>[0.06667367034744438]</td>\n",
       "      <td>[0.033437051981408714]</td>\n",
       "      <td>[0.03337719062123286]</td>\n",
       "    </tr>\n",
       "  </tbody>\n",
       "</table>\n",
       "</div>"
      ],
      "text/plain": [
       "                       N0                      N1                      N2  \\\n",
       "0  [0.010906185878308175]  [0.010906185878308175]  [0.004113444468499674]   \n",
       "1  [0.010906185878308175]  [0.010906185878308175]  [0.004113444468499674]   \n",
       "\n",
       "                      N3     N4                     N5  \\\n",
       "0  [0.01652892561983471]  [0.0]  [0.06667367034744438]   \n",
       "1  [0.01652892561983471]  [0.0]  [0.06667367034744438]   \n",
       "\n",
       "                       N6                     N7  \n",
       "0  [0.033437051981408714]  [0.03337719062123286]  \n",
       "1  [0.033437051981408714]  [0.03337719062123286]  "
      ]
     },
     "execution_count": 23,
     "metadata": {},
     "output_type": "execute_result"
    }
   ],
   "source": [
    "DataN.head(2)"
   ]
  },
  {
   "cell_type": "code",
   "execution_count": 24,
   "metadata": {},
   "outputs": [],
   "source": [
    "\n",
    "DataN = DataN.to_numpy()\n",
    "Label = Label.to_numpy()\n",
    "\n",
    "from sklearn.model_selection import train_test_split\n",
    "\n",
    "# Separar os dataset em treino, teste e validação nas proporções (70%, 15%, 15%)\n",
    "train_ratio = 0.75\n",
    "val_ratio = test_ratio = 0.25\n",
    "\n",
    "x_train, x_test, y_train, y_test = train_test_split(DataN, Label, test_size = 1 - train_ratio, shuffle=True)\n",
    "#testSize = (test_ratio/(test_ratio + val_ratio))\n",
    "#x_val, x_test, y_val, y_test = train_test_split(x_test, y_test, test_size = testSize, shuffle=False)\n"
   ]
  },
  {
   "cell_type": "code",
   "execution_count": null,
   "metadata": {},
   "outputs": [],
   "source": []
  },
  {
   "cell_type": "code",
   "execution_count": 25,
   "metadata": {},
   "outputs": [],
   "source": [
    "def Tensor_Dataset1(x, y):\n",
    "\n",
    "    # z = Como o algoritmo trabalha com multiplas topologias e o nosso tem apenas uma, \n",
    "    # criei um tensor que linka todos os dados a nossa matriz adjacência\n",
    "\n",
    "\n",
    "    e = []\n",
    "    z = torch.tensor(1, dtype=torch.int32) \n",
    "    A = []\n",
    "    for a in range(np.shape(x)[0]):\n",
    "        d = []\n",
    "        for b in range(np.shape(x)[1]):\n",
    "            c = np.array(x[a][b])        \n",
    "            d.append(c)\n",
    "            #print('d',d)\n",
    "        e.append(d)\n",
    "        A.append(z)\n",
    "    \n",
    "    y_ = []\n",
    "    for i in y:\n",
    "        #y_.append(y[i].item())\n",
    "        y_.append(i.item())\n",
    "        \n",
    "    e1 = torch.Tensor(e).type(torch.double)   # X\n",
    "    f1 = torch.LongTensor(y_)                 # Label\n",
    "    A1 = torch.LongTensor(A)                  # Localização matriz Adjacência\n",
    "    \n",
    "    \n",
    "    my_dataset = TensorDataset(e1, f1, A1)\n",
    "\n",
    "    # my_dataset[0] - [X, Y, A]\n",
    "\n",
    "    return my_dataset"
   ]
  },
  {
   "cell_type": "code",
   "execution_count": 26,
   "metadata": {},
   "outputs": [
    {
     "name": "stderr",
     "output_type": "stream",
     "text": [
      "<ipython-input-25-99f79f8b03d9>:25: DeprecationWarning: an integer is required (got type float).  Implicit conversion to integers using __int__ is deprecated, and may be removed in a future version of Python.\n",
      "  f1 = torch.LongTensor(y_)                 # Label\n"
     ]
    }
   ],
   "source": [
    "TrainDataset = Tensor_Dataset1(x_train, y_train) \n",
    "TestDataset = Tensor_Dataset1(x_test, y_test)\n",
    "#UnrelatedDataset = Tensor_Dataset1(x_val, y_val) # validação"
   ]
  },
  {
   "cell_type": "code",
   "execution_count": 27,
   "metadata": {},
   "outputs": [],
   "source": [
    "adc = pd.read_csv('Mat-adj-com-junc.csv', header=None)\n",
    "#ads = pd.read_csv('Mat-adj-sem-junc.csv', header=None)\n",
    "\n",
    "#ads = Msj"
   ]
  },
  {
   "cell_type": "code",
   "execution_count": 28,
   "metadata": {},
   "outputs": [],
   "source": [
    "dist = np.array([[0,10,13,13,19,19,19,19], [10,0,3,3,9,9,9,9], [13,3,0,6,12,12,6,6],[13,3,6,0,6,6,12,12],[19,9,12,6,0,12,18,18],[19,9,12,6,12,0,18,18],[19,19,6,12,18,18,0,12],[19,9,6,12,18,18,12,0]])"
   ]
  },
  {
   "cell_type": "code",
   "execution_count": 29,
   "metadata": {},
   "outputs": [],
   "source": [
    "dist1 = torch.from_numpy(dist)"
   ]
  },
  {
   "cell_type": "code",
   "execution_count": 30,
   "metadata": {},
   "outputs": [],
   "source": [
    "#dist2 = torch.from_numpy(np.array(ads))"
   ]
  },
  {
   "cell_type": "code",
   "execution_count": 31,
   "metadata": {},
   "outputs": [],
   "source": [
    "#dist2"
   ]
  },
  {
   "cell_type": "code",
   "execution_count": 32,
   "metadata": {},
   "outputs": [],
   "source": [
    "dist_c_j = torch.from_numpy(np.array(adc))\n",
    "#dist_s_j = torch.from_numpy(np.array(ads))"
   ]
  },
  {
   "cell_type": "code",
   "execution_count": 33,
   "metadata": {},
   "outputs": [],
   "source": [
    "# converte a matriz de distância para matriz de Adjacêcnias (unitárias)\n",
    "\n",
    "def Dist_to_Adj(Adj):\n",
    "    for i in range(len(Adj)):\n",
    "        for j in range(len(Adj)):\n",
    "            if Adj[i][j] >= 1:\n",
    "                Adj[i][j] = 1\n",
    "\n",
    "    Adj1 = np.array(Adj)\n",
    "    adj_matrices = torch.from_numpy(Adj1)\n",
    "\n",
    "    return adj_matrices"
   ]
  },
  {
   "cell_type": "code",
   "execution_count": 34,
   "metadata": {},
   "outputs": [],
   "source": [
    "#ads = ads.to_numpy()\n",
    "#adc = adc.to_numpy()\n",
    "#Adj_s_j = Dist_to_Adj(ads)\n",
    "Adj_c_j = Dist_to_Adj(adc)"
   ]
  },
  {
   "cell_type": "code",
   "execution_count": 35,
   "metadata": {},
   "outputs": [],
   "source": [
    "#Adj_s_j"
   ]
  },
  {
   "cell_type": "code",
   "execution_count": 36,
   "metadata": {},
   "outputs": [],
   "source": [
    "#Adj_s_j_tensor = torch.stack((Adj_s_j, Adj_s_j)).type(torch.double)\n",
    "Adj_c_j_tensor = torch.stack((Adj_c_j, Adj_c_j)).type(torch.double)\n",
    "\n",
    "dist_c_j_tensor = torch.stack((dist1, dist1)).type(torch.double)\n",
    "#dist_s_j_tensor = torch.stack((dist2, dist2)).type(torch.double)"
   ]
  },
  {
   "cell_type": "code",
   "execution_count": 37,
   "metadata": {},
   "outputs": [],
   "source": [
    "torch.save(TrainDataset,folder + 'train_dataset_0505_nz.pt')\n",
    "torch.save(TestDataset,folder + 'test_dataset_0505_nz.pt')\n",
    "#torch.save(UnrelatedDataset,'unrelated_dataset_rev2.pt')\n",
    "\n",
    "torch.save(dist_c_j_tensor,folder +  'dist_matrices_0505_nz.pt')\n",
    "torch.save(Adj_c_j_tensor,folder +  'adj_matrices_0505_nz.pt')\n",
    "\n",
    "#torch.save(dist_s_j_tensor, 'dist_matrices_s_0505_03.pt')\n",
    "#torch.save(Adj_s_j_tensor, 'adj_matrices_s_0505_03.pt')"
   ]
  },
  {
   "cell_type": "code",
   "execution_count": 42,
   "metadata": {},
   "outputs": [
    {
     "data": {
      "image/png": "[encoded data removed]",
      "text/plain": [
       "<Figure size 576x648 with 1 Axes>"
      ]
     },
     "metadata": {},
     "output_type": "display_data"
    }
   ],
   "source": [
    "import networkx as nx\n",
    "import matplotlib.pyplot as plt\n",
    "%matplotlib inline\n",
    "\n",
    "labeldict = {}\n",
    "labeldict[0] = \"shopkeeper\"\n",
    "labeldict[0] = \"angry man with parrot\"\n",
    "\n",
    "#H = nx.relabel_nodes(G, mapping)\n",
    "G = nx.Graph(adc)\n",
    "#nx.draw(G, with_labels = True)\n",
    "\n",
    "mapping={0:'N2',1:'N7',2:'N9',3:'N8',4:'N6',5:'N5', 6:'N4', 7:'N3'}\n",
    "#adc, labels=labeldict, with_labels = True)\n",
    "plt.figure(figsize=(8,9)) \n",
    "nx.draw(G,labels=mapping, with_labels = True,node_size=1500, font_size=25, font_color=\"yellow\", font_weight=\"bold\")"
   ]
  },
  {
   "cell_type": "code",
   "execution_count": null,
   "metadata": {},
   "outputs": [],
   "source": []
  }
 ],
 "metadata": {
  "kernelspec": {
   "display_name": "Python 3",
   "language": "python",
   "name": "python3"
  },
  "language_info": {
   "codemirror_mode": {
    "name": "ipython",
    "version": 3
   },
   "file_extension": ".py",
   "mimetype": "text/x-python",
   "name": "python",
   "nbconvert_exporter": "python",
   "pygments_lexer": "ipython3",
   "version": "3.8.5"
  }
 },
 "nbformat": 4,
 "nbformat_minor": 4
}
