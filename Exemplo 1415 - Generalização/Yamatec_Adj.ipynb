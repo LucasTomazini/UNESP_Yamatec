{
 "cells": [
  {
   "cell_type": "code",
   "execution_count": 75,
   "metadata": {},
   "outputs": [],
   "source": [
    "import numpy as np\n",
    "import pandas as pd\n",
    "import torch\n",
    "\n",
    "from torch.utils.data import Dataset, DataLoader, TensorDataset"
   ]
  },
  {
   "cell_type": "code",
   "execution_count": 206,
   "metadata": {},
   "outputs": [],
   "source": [
    "folder = 'dataset/'\n",
    "\n",
    "Mat14 = pd.read_csv(folder + 'Mat14.csv', header=None)\n",
    "Mat15 = pd.read_csv(folder + 'Mat15.csv', header=None)"
   ]
  },
  {
   "cell_type": "code",
   "execution_count": 207,
   "metadata": {},
   "outputs": [],
   "source": [
    "# converte a matriz de distância para matriz de Adjacêcnias (unitárias)\n",
    "\n",
    "def Dist_to_Adj(Adj):\n",
    "    for i in range(len(Adj)):\n",
    "        for j in range(len(Adj)):\n",
    "            if Adj[i][j] >= 1:\n",
    "                Adj[i][j] = 1\n",
    "\n",
    "    Adj1 = np.array(Adj)\n",
    "    #adj_matrices = torch.from_numpy(Adj1)\n",
    "\n",
    "    return Adj1"
   ]
  },
  {
   "cell_type": "code",
   "execution_count": 208,
   "metadata": {},
   "outputs": [],
   "source": [
    "Mat14 = Dist_to_Adj(Mat14)\n",
    "Mat15 = Dist_to_Adj(Mat15)\n",
    "\n",
    "a = np.array([Mat14, Mat15], dtype=object)\n",
    "a[0] = torch.tensor(a[0]).type(torch.double)\n",
    "a[1] = torch.tensor(a[1]).type(torch.double)"
   ]
  },
  {
   "cell_type": "code",
   "execution_count": 209,
   "metadata": {},
   "outputs": [],
   "source": [
    "torch.save(a, folder + 'adj_matrices1415.pt')"
   ]
  }
 ],
 "metadata": {
  "kernelspec": {
   "display_name": "Python 3",
   "language": "python",
   "name": "python3"
  },
  "language_info": {
   "codemirror_mode": {
    "name": "ipython",
    "version": 3
   },
   "file_extension": ".py",
   "mimetype": "text/x-python",
   "name": "python",
   "nbconvert_exporter": "python",
   "pygments_lexer": "ipython3",
   "version": "3.8.5"
  }
 },
 "nbformat": 4,
 "nbformat_minor": 4
}
